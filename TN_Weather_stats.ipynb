{
 "cells": [
  {
   "cell_type": "code",
   "execution_count": 1,
   "metadata": {
    "collapsed": true
   },
   "outputs": [],
   "source": [
    "import pandas as pd\n",
    "import matplotlib.pyplot as plt\n",
    "import numpy as np\n",
    "\n",
    "df_rain = pd.read_excel('file://localhost/Users/mattcurrey/Downloads/climate_data.xls', sheetname='Precipitation', skiprows=6)\n",
    "df_sun = pd.read_excel('file://localhost/Users/mattcurrey/Downloads/climate_data.xls', sheetname='Sunshine',skiprows=3)\n",
    "df_temp = pd.read_excel('file://localhost/Users/mattcurrey/Downloads/climate_data.xls', sheetname='Temp', skiprows=3)\n",
    "df_wind = pd.read_excel('file://localhost/Users/mattcurrey/Downloads/climate_data.xls', sheetname='Wind', skiprows=3)\n",
    "\n",
    "# PRECIPITATION DATASET FOR CITIES IN THE UNITED STATES\n",
    "ave_rain = []\n",
    "for i in range(0,len(df_rain)):\n",
    "    ave_rain.append(df_rain.iloc[i].values[1:].mean())\n",
    "\n",
    "df_rain = df_rain.rename(columns={'284 CITIES': 'CITIES'})\n",
    "df_rain['AVG'] = ave_rain\n",
    "df_rain = df_rain[df_rain.CITIES.str.contains(\", PC\") == False]\n",
    "df_rain_avg = df_rain[['CITIES','AVG']]\n",
    "df_rain_avg = df_rain_avg.sort_values(by='AVG',ascending=False)\n",
    "TN_rain = df_rain[df_rain.CITIES.str.contains(\", TN\") == True]\n",
    "TN_rain_series = TN_rain.iloc[0][1:13]\n",
    "TN_rain = TN_rain.sort_values(by='AVG',ascending=False)\n",
    "TN_rain_cities = TN_rain['CITIES'].values\n",
    "TN_rain_cities = [i.split(', TN')[0] for i in TN_rain_cities]\n",
    "TN_rain_values = TN_rain['AVG'].values\n",
    "TN_rain_values = TN_rain_values.round(decimals=2)\n",
    "\n",
    "# SUNLIGHT DATASET FOR CITIES IN THE UNITED STATES\n",
    "ave_sun = []\n",
    "for i in range(0,len(df_sun)):\n",
    "    ave_sun.append(df_sun.iloc[i].values[1:].mean())\n",
    "\n",
    "df_sun = df_sun.rename(columns={'174 CITIES': 'CITIES'})\n",
    "df_sun['AVG'] = ave_sun\n",
    "df_sun = df_sun[df_sun.CITIES.str.contains(\", PC\") == False]\n",
    "df_sun_avg = df_sun[['CITIES','AVG']]\n",
    "df_sun_avg = df_sun_avg.sort_values(by='AVG',ascending=False)\n",
    "TN_sun = df_sun[df_sun.CITIES.str.contains(\", TN\") == True]\n",
    "TN_sun = TN_sun.sort_values(by='AVG',ascending=False)\n",
    "TN_sun_cities = TN_sun['CITIES'].values\n",
    "TN_sun_values = TN_sun['AVG'].values\n",
    "#TN_sun_values = TN_sun_values.round(decimals=2)\n",
    "# df_sun_avg['AVG'].mean()  # CALCULATES THE AVERAGE SUNLIGHT FOR ALL CITIES IN THE DATASET\n",
    "# df_sun_avg[df_sun_avg['174 CITIES']=='KNOXVILLE, TN']   # CALCULTES THE AVERAGE SUNLIGHT FOR KNOXVILLE, TN\n",
    "\n",
    "# TEMPERATURE DATASET FOR CITIES IN THE UNITED STATES\n",
    "ave_temp = []\n",
    "for i in range(0,len(df_temp)):\n",
    "    ave_temp.append(df_temp.iloc[i].values[1:].mean())\n",
    "\n",
    "df_temp = df_temp.rename(columns={'283 CITIES': 'CITIES'})\n",
    "df_temp['AVG'] = ave_temp\n",
    "df_temp = df_temp[df_temp.CITIES.str.contains(\", PC\") == False]\n",
    "df_temp_avg = df_temp[['CITIES','AVG']]\n",
    "df_temp_avg = df_temp_avg.sort_values(by='AVG',ascending=False)\n",
    "TN_temp = df_temp[df_temp.CITIES.str.contains(\", TN\") == True]\n",
    "TN_temp = TN_temp.sort_values(by='AVG',ascending=False)\n",
    "TN_temp_cities = TN_temp['CITIES'].values\n",
    "TN_temp_values = TN_temp['AVG'].values\n",
    "#TN_temp_values = TN_temp_values.round(decimals=2)\n",
    "\n",
    "# WIND DATASET FOR CITIES IN THE UNITED STATES\n",
    "ave_wind = []\n",
    "for i in range(0,len(df_wind)):\n",
    "    ave_wind.append(df_wind.iloc[i].values[1:].mean())\n",
    "\n",
    "df_wind = df_wind.rename(columns={'275 CITIES': 'CITIES'})\n",
    "df_wind['AVG'] = ave_wind\n",
    "df_wind = df_wind[df_wind.CITIES.str.contains(\", PC\") == False]\n",
    "df_wind_avg = df_wind[['CITIES', 'AVG']]\n",
    "df_wind_avg = df_wind_avg.sort_values(by='AVG',ascending=False)\n",
    "TN_wind = df_wind[df_wind.CITIES.str.contains(\", TN\") == True]\n",
    "TN_wind = TN_wind.sort_values(by='AVG',ascending=False)\n",
    "TN_wind_cities = TN_wind['CITIES'].values\n",
    "TN_wind_values = TN_wind['AVG'].values\n",
    "#TN_wind_values = TN_wind_values.round(decimals=2)\n",
    "\n",
    "pos = np.arange(len(TN_rain_cities))\n",
    "\n",
    "def TN_bars():\n",
    "    plt.figure()\n",
    "    pos = np.arange(len(TN_rain_cities))\n",
    "    ax1 = plt.subplot(1,2,1)\n",
    "    rain_bars = plt.bar(pos, TN_rain_values, align='center', linewidth=0, color='lightslategrey')\n",
    "    rain_bars[0].set_color('#1F77B4')\n",
    "    plt.xticks(pos, TN_rain_cities, alpha=0.8, fontsize=5.4)\n",
    "    plt.title('Average Monthly Precipitation (in.)', fontsize=10)\n",
    "    plt.tick_params(top='off', left='off', bottom='off', right='off', labelleft='off', labelbottom='on')\n",
    "\n",
    "    for spine in plt.gca().spines.values():\n",
    "        spine.set_visible(False)\n",
    "\n",
    "    for bar in rain_bars:\n",
    "        plt.gca().text(bar.get_x() + bar.get_width()/2, bar.get_height() - 0.4, str(float(bar.get_height())), ha='center', color='w', fontsize=10)\n",
    "    \n",
    "    plt.subplot(1,2,2)\n",
    "    pos2 = np.arange(len(TN_sun_cities))\n",
    "    sun_bars = plt.bar(pos, TN_sun_values, align='center', linewidth=0, color='#ffbd45')\n",
    "    sun_bars[0].set_color('#ffa500')\n",
    "    plt.xticks(pos2, TN_rain_cities, alpha=0.8, fontsize=5.4)\n",
    "    plt.title('Average Monthly Sunshine (%)', fontsize=10)\n",
    "    plt.tick_params(top='off', left='off', bottom='off', right='off', labelleft='off', labelbottom='on')\n",
    "\n",
    "    for spine in plt.gca().spines.values():\n",
    "        spine.set_visible(False)\n",
    "\n",
    "    for bar in sun_bars:\n",
    "        plt.gca().text(bar.get_x() + bar.get_width()/2, bar.get_height() - 5, str(int(bar.get_height())), ha='center', color='w', fontsize=10)\n",
    "    \n",
    "    plt.savefig('Assignment4')\n",
    "    \n",
    "    return plt.show()"
   ]
  },
  {
   "cell_type": "code",
   "execution_count": 2,
   "metadata": {
    "collapsed": false
   },
   "outputs": [
    {
     "data": {
      "image/png": "[encoded data removed]",
      "text/plain": [
       "<matplotlib.figure.Figure at 0x104854048>"
      ]
     },
     "metadata": {},
     "output_type": "display_data"
    }
   ],
   "source": [
    "TN_bars()"
   ]
  },
  {
   "cell_type": "code",
   "execution_count": 157,
   "metadata": {
    "collapsed": false
   },
   "outputs": [],
   "source": []
  },
  {
   "cell_type": "code",
   "execution_count": null,
   "metadata": {
    "collapsed": false
   },
   "outputs": [],
   "source": []
  },
  {
   "cell_type": "code",
   "execution_count": 148,
   "metadata": {
    "collapsed": false
   },
   "outputs": [],
   "source": []
  },
  {
   "cell_type": "code",
   "execution_count": null,
   "metadata": {
    "collapsed": true
   },
   "outputs": [],
   "source": []
  }
 ],
 "metadata": {
  "anaconda-cloud": {},
  "kernelspec": {
   "display_name": "Python [default]",
   "language": "python",
   "name": "python3"
  },
  "language_info": {
   "codemirror_mode": {
    "name": "ipython",
    "version": 3
   },
   "file_extension": ".py",
   "mimetype": "text/x-python",
   "name": "python",
   "nbconvert_exporter": "python",
   "pygments_lexer": "ipython3",
   "version": "3.5.2"
  }
 },
 "nbformat": 4,
 "nbformat_minor": 1
}
